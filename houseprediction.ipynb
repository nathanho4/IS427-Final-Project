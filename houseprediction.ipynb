{
 "cells": [
  {
   "cell_type": "code",
   "execution_count": 2,
   "id": "e270269e",
   "metadata": {},
   "outputs": [],
   "source": [
    "\n",
    "import pandas as pd\n",
    "from sklearn.impute import SimpleImputer\n",
    "from sklearn.preprocessing import OneHotEncoder\n",
    "from sklearn.compose import ColumnTransformer\n",
    "from sklearn.pipeline import Pipeline\n",
    "from sklearn.model_selection import train_test_split\n",
    "from sklearn.neighbors import KNeighborsRegressor\n",
    "from sklearn.tree import DecisionTreeRegressor\n",
    "from sklearn.metrics import mean_absolute_error, mean_squared_error\n"
   ]
  },
  {
   "cell_type": "markdown",
   "id": "a2530f5a",
   "metadata": {},
   "source": [
    "# Load Data"
   ]
  },
  {
   "cell_type": "code",
   "execution_count": 3,
   "id": "dbdd6e0c",
   "metadata": {},
   "outputs": [],
   "source": [
    "train_data = pd.read_csv('train.csv')\n",
    "test_data = pd.read_csv('test.csv')\n"
   ]
  },
  {
   "cell_type": "markdown",
   "id": "42aa856f",
   "metadata": {},
   "source": [
    "# Preprocess Data"
   ]
  },
  {
   "cell_type": "code",
   "execution_count": 4,
   "id": "174da1d9",
   "metadata": {},
   "outputs": [],
   "source": [
    "\n",
    "X_train = train_data.drop('SalePrice', axis=1)\n",
    "y_train = train_data['SalePrice']\n",
    "X_test = test_data.copy()\n",
    "\n",
    "numerical_cols = X_train.select_dtypes(include=['int64', 'float64']).columns\n",
    "categorical_cols = X_train.select_dtypes(include=['object']).columns\n",
    "\n",
    "numerical_transformer = SimpleImputer(strategy='median')\n",
    "categorical_transformer = Pipeline(steps=[\n",
    "    ('imputer', SimpleImputer(strategy='most_frequent')),\n",
    "    ('onehot', OneHotEncoder(handle_unknown='ignore'))\n",
    "])\n",
    "\n",
    "preprocessor = ColumnTransformer(transformers=[\n",
    "    ('num', numerical_transformer, numerical_cols),\n",
    "    ('cat', categorical_transformer, categorical_cols)\n",
    "])\n",
    "\n",
    "X_train_preprocessed = preprocessor.fit_transform(X_train)\n",
    "X_test_preprocessed = preprocessor.transform(X_test)\n"
   ]
  },
  {
   "cell_type": "markdown",
   "id": "ef762d18",
   "metadata": {},
   "source": [
    "# K-Nearest Neighbors Model Training and Evaluation"
   ]
  },
  {
   "cell_type": "code",
   "execution_count": 5,
   "id": "a83c0dd4",
   "metadata": {},
   "outputs": [
    {
     "ename": "NameError",
     "evalue": "name 'X_train_part' is not defined",
     "output_type": "error",
     "traceback": [
      "\u001b[1;31m---------------------------------------------------------------------------\u001b[0m",
      "\u001b[1;31mNameError\u001b[0m                                 Traceback (most recent call last)",
      "Cell \u001b[1;32mIn[5], line 19\u001b[0m\n\u001b[0;32m     16\u001b[0m     \u001b[38;5;28;01mreturn\u001b[39;00m mae, mse\n\u001b[0;32m     18\u001b[0m \u001b[38;5;66;03m# Example usage: Evaluate KNN with 3 neighbors\u001b[39;00m\n\u001b[1;32m---> 19\u001b[0m mae, mse \u001b[38;5;241m=\u001b[39m train_evaluate_knn(\u001b[38;5;241m3\u001b[39m, \u001b[43mX_train_part\u001b[49m, y_train_part, X_test_part, y_test_part)\n\u001b[0;32m     20\u001b[0m \u001b[38;5;28mprint\u001b[39m(\u001b[38;5;124mf\u001b[39m\u001b[38;5;124m'\u001b[39m\u001b[38;5;124mMAE with 3 neighbors: \u001b[39m\u001b[38;5;132;01m{\u001b[39;00mmae\u001b[38;5;132;01m}\u001b[39;00m\u001b[38;5;124m, MSE with 3 neighbors: \u001b[39m\u001b[38;5;132;01m{\u001b[39;00mmse\u001b[38;5;132;01m}\u001b[39;00m\u001b[38;5;124m'\u001b[39m)\n\u001b[0;32m     22\u001b[0m \u001b[38;5;66;03m# Evaluate KNN with 5 neighbors\u001b[39;00m\n",
      "\u001b[1;31mNameError\u001b[0m: name 'X_train_part' is not defined"
     ]
    }
   ],
   "source": [
    "# Assuming X_train_preprocessed and y_train are already defined and preprocessed\n",
    "X_train_part, X_test_part, y_train_part, y_test_part = train_test_split(\n",
    "    X_train_preprocessed, y_train, test_size=0.2, random_state=42)\n",
    "\n",
    "# Function to train and evaluate a KNN model with a variable number of neighbors\n",
    "def train_evaluate_knn(n_neighbors, X_train, y_train, X_test, y_test):\n",
    "    # Create a KNN model with the specified number of neighbors\n",
    "    knn_model = KNeighborsRegressor(n_neighbors=n_neighbors)\n",
    "    \n",
    "    # Fit the model on the training data\n",
    "    knn_model.fit(X_train, y_train)\n",
    "    \n",
    "    # Predict on the test data\n",
    "    predictions = knn_model.predict(X_test)\n",
    "    \n",
    "    # Evaluate the model\n",
    "    mae = mean_absolute_error(y_test, predictions)\n",
    "    mse = mean_squared_error(y_test, predictions)\n",
    "    \n",
    "    return mae, mse\n",
    "\n",
    "# Example usage: Evaluate KNN with 3 neighbors\n",
    "mae, mse = train_evaluate_knn(3, X_train_part, y_train_part, X_test_part, y_test_part)\n",
    "print(f'MAE with 3 neighbors: {mae}, MSE with 3 neighbors: {mse}')\n",
    "\n",
    "# Evaluate KNN with 5 neighbors\n",
    "mae, mse = train_evaluate_knn(5, X_train_part, y_train_part, X_test_part, y_test_part)\n",
    "print(f'MAE with 5 neighbors: {mae}, MSE with 5 neighbors: {mse}')\n",
    "\n"
   ]
  },
  {
   "cell_type": "markdown",
   "id": "87ae18ee",
   "metadata": {},
   "source": [
    "# Decision Tree Model Training and Evaluation"
   ]
  },
  {
   "cell_type": "code",
   "execution_count": null,
   "id": "19965b90",
   "metadata": {},
   "outputs": [
    {
     "ename": "NameError",
     "evalue": "name 'X_test_part' is not defined",
     "output_type": "error",
     "traceback": [
      "\u001b[1;31m---------------------------------------------------------------------------\u001b[0m",
      "\u001b[1;31mNameError\u001b[0m                                 Traceback (most recent call last)",
      "Cell \u001b[1;32mIn[5], line 3\u001b[0m\n\u001b[0;32m      1\u001b[0m tree_model \u001b[38;5;241m=\u001b[39m DecisionTreeRegressor()\n\u001b[0;32m      2\u001b[0m tree_model\u001b[38;5;241m.\u001b[39mfit(X_train_preprocessed, y_train)\n\u001b[1;32m----> 3\u001b[0m tree_predictions \u001b[38;5;241m=\u001b[39m tree_model\u001b[38;5;241m.\u001b[39mpredict(\u001b[43mX_test_part\u001b[49m)\n\u001b[0;32m      4\u001b[0m tree_mae \u001b[38;5;241m=\u001b[39m mean_absolute_error(y_test_part, tree_predictions)\n\u001b[0;32m      5\u001b[0m tree_mse \u001b[38;5;241m=\u001b[39m mean_squared_error(y_test_part, tree_predictions)\n",
      "\u001b[1;31mNameError\u001b[0m: name 'X_test_part' is not defined"
     ]
    }
   ],
   "source": [
    "\n",
    "tree_model = DecisionTreeRegressor()\n",
    "tree_model.fit(X_train_preprocessed, y_train)\n",
    "tree_predictions = tree_model.predict(X_test_part)\n",
    "tree_mae = mean_absolute_error(y_test_part, tree_predictions)\n",
    "tree_mse = mean_squared_error(y_test_part, tree_predictions)\n",
    "print(f'Decision Tree MAE: {tree_mae}, Decision Tree MSE: {tree_mse}')\n"
   ]
  }
 ],
 "metadata": {
  "kernelspec": {
   "display_name": "Python 3",
   "language": "python",
   "name": "python3"
  },
  "language_info": {
   "codemirror_mode": {
    "name": "ipython",
    "version": 3
   },
   "file_extension": ".py",
   "mimetype": "text/x-python",
   "name": "python",
   "nbconvert_exporter": "python",
   "pygments_lexer": "ipython3",
   "version": "3.12.1"
  }
 },
 "nbformat": 4,
 "nbformat_minor": 5
}
