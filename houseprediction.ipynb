{
 "cells": [
  {
   "cell_type": "code",
   "execution_count": 75,
   "id": "e270269e",
   "metadata": {},
   "outputs": [],
   "source": [
    "\n",
    "import pandas as pd\n",
    "from sklearn.impute import SimpleImputer\n",
    "from sklearn.preprocessing import OneHotEncoder\n",
    "from sklearn.compose import ColumnTransformer\n",
    "from sklearn.pipeline import Pipeline\n",
    "from sklearn.model_selection import train_test_split\n",
    "from sklearn.neighbors import KNeighborsRegressor\n",
    "from sklearn.tree import DecisionTreeRegressor\n",
    "from sklearn.metrics import mean_absolute_error, mean_squared_error\n"
   ]
  },
  {
   "cell_type": "markdown",
   "id": "a2530f5a",
   "metadata": {},
   "source": [
    "# Load Data"
   ]
  },
  {
   "cell_type": "code",
   "execution_count": 76,
   "id": "dbdd6e0c",
   "metadata": {},
   "outputs": [],
   "source": [
    "train_data = pd.read_csv('train.csv')\n",
    "test_data = pd.read_csv('test.csv')\n"
   ]
  },
  {
   "cell_type": "markdown",
   "id": "42aa856f",
   "metadata": {},
   "source": [
    "# Preprocess Data"
   ]
  },
  {
   "cell_type": "code",
   "execution_count": 77,
   "id": "174da1d9",
   "metadata": {},
   "outputs": [],
   "source": [
    "\n",
    "X_train = train_data.drop('SalePrice', axis=1)\n",
    "y_train = train_data['SalePrice']\n",
    "X_test = test_data.copy()\n",
    "\n",
    "numerical_cols = X_train.select_dtypes(include=['int64', 'float64']).columns\n",
    "categorical_cols = X_train.select_dtypes(include=['object']).columns\n",
    "\n",
    "numerical_transformer = SimpleImputer(strategy='median')\n",
    "categorical_transformer = Pipeline(steps=[\n",
    "    ('imputer', SimpleImputer(strategy='most_frequent')),\n",
    "    ('onehot', OneHotEncoder(handle_unknown='ignore'))\n",
    "])\n",
    "\n",
    "preprocessor = ColumnTransformer(transformers=[\n",
    "    ('num', numerical_transformer, numerical_cols),\n",
    "    ('cat', categorical_transformer, categorical_cols)\n",
    "])\n",
    "\n",
    "X_train_preprocessed = preprocessor.fit_transform(X_train)\n",
    "X_test_preprocessed = preprocessor.transform(X_test)\n"
   ]
  },
  {
   "cell_type": "markdown",
   "id": "1a45877a",
   "metadata": {},
   "source": [
    "# Visualize Data"
   ]
  },
  {
   "cell_type": "code",
   "execution_count": 78,
   "id": "9c842b43",
   "metadata": {},
   "outputs": [
    {
     "data": {
      "image/png": "[encoded data removed]",
      "text/plain": [
       "<Figure size 1000x600 with 1 Axes>"
      ]
     },
     "metadata": {},
     "output_type": "display_data"
    }
   ],
   "source": [
    "import matplotlib.pyplot as plt\n",
    "\n",
    "# Create a histogram of the sale prices\n",
    "plt.figure(figsize=(10, 6))\n",
    "plt.hist(y_train, bins=30, color='blue', alpha=0.7)\n",
    "plt.title('Histogram of Sale Prices')\n",
    "plt.xlabel('Sale Price')\n",
    "plt.ylabel('Number of Houses')\n",
    "plt.grid(True)\n",
    "plt.show()\n"
   ]
  },
  {
   "cell_type": "markdown",
   "id": "ef762d18",
   "metadata": {},
   "source": [
    "# K-Nearest Neighbors Model Training and Evaluation"
   ]
  },
  {
   "cell_type": "code",
   "execution_count": 79,
   "id": "a83c0dd4",
   "metadata": {},
   "outputs": [
    {
     "name": "stdout",
     "output_type": "stream",
     "text": [
      "MAE with 3 neighbors: 31019.474885844753, MSE with 3 neighbors: 2382597572.6925416\n",
      "MAE with 5 neighbors: 29298.278767123287, MSE with 5 neighbors: 2359467665.818219\n"
     ]
    }
   ],
   "source": [
    "# Assuming X_train_preprocessed and y_train are already defined and preprocessed\n",
    "X_train_part, X_test_part, y_train_part, y_test_part = train_test_split(\n",
    "    X_train_preprocessed, y_train, test_size=0.2, random_state=42)\n",
    "\n",
    "# Function to train and evaluate a KNN model with a variable number of neighbors\n",
    "def train_evaluate_knn(n_neighbors, X_train, y_train, X_test, y_test):\n",
    "    # Create a KNN model with the specified number of neighbors\n",
    "    knn_model = KNeighborsRegressor(n_neighbors=n_neighbors)\n",
    "    \n",
    "    # Fit the model on the training data\n",
    "    knn_model.fit(X_train, y_train)\n",
    "    \n",
    "    # Predict on the test data\n",
    "    predictions = knn_model.predict(X_test)\n",
    "    \n",
    "    # Evaluate the model\n",
    "    mae = mean_absolute_error(y_test, predictions)\n",
    "    mse = mean_squared_error(y_test, predictions)\n",
    "    \n",
    "    return mae, mse\n",
    "\n",
    "# Example usage: Evaluate KNN with 3 neighbors\n",
    "mae, mse = train_evaluate_knn(3, X_train_part, y_train_part, X_test_part, y_test_part)\n",
    "print(f'MAE with 3 neighbors: {mae}, MSE with 3 neighbors: {mse}')\n",
    "\n",
    "# Evaluate KNN with 5 neighbors\n",
    "mae, mse = train_evaluate_knn(5, X_train_part, y_train_part, X_test_part, y_test_part)\n",
    "print(f'MAE with 5 neighbors: {mae}, MSE with 5 neighbors: {mse}')\n",
    "\n"
   ]
  },
  {
   "cell_type": "markdown",
   "id": "87ae18ee",
   "metadata": {},
   "source": [
    "# Decision Tree Model Training and Evaluation"
   ]
  },
  {
   "cell_type": "code",
   "execution_count": 80,
   "id": "19965b90",
   "metadata": {},
   "outputs": [
    {
     "name": "stdout",
     "output_type": "stream",
     "text": [
      "Decision Tree MAE: 0.0, Decision Tree MSE: 0.0\n"
     ]
    }
   ],
   "source": [
    "\n",
    "tree_model = DecisionTreeRegressor()\n",
    "tree_model.fit(X_train_preprocessed, y_train)\n",
    "tree_predictions = tree_model.predict(X_test_part)\n",
    "tree_mae = mean_absolute_error(y_test_part, tree_predictions)\n",
    "tree_mse = mean_squared_error(y_test_part, tree_predictions)\n",
    "print(f'Decision Tree MAE: {tree_mae}, Decision Tree MSE: {tree_mse}')\n"
   ]
  },
  {
   "cell_type": "code",
   "execution_count": 81,
   "id": "419c8053",
   "metadata": {},
   "outputs": [
    {
     "name": "stdout",
     "output_type": "stream",
     "text": [
      "Decision Tree MAE: 26222.93015791965, Decision Tree MSE: 1657312887.6299899\n"
     ]
    }
   ],
   "source": [
    "from sklearn.tree import DecisionTreeRegressor\n",
    "from sklearn.metrics import mean_absolute_error, mean_squared_error\n",
    "\n",
    "# Create the Decision Tree model with constraints to prevent overfitting\n",
    "tree_model = DecisionTreeRegressor(max_depth=5, min_samples_leaf=10)\n",
    "\n",
    "# Fit the model on the part of the training data set aside for training\n",
    "tree_model.fit(X_train_part, y_train_part)\n",
    "\n",
    "# Predict on the part of the training data set aside for testing\n",
    "tree_predictions = tree_model.predict(X_test_part)\n",
    "\n",
    "# Evaluate the model\n",
    "tree_mae = mean_absolute_error(y_test_part, tree_predictions)\n",
    "tree_mse = mean_squared_error(y_test_part, tree_predictions)\n",
    "\n",
    "print(f'Decision Tree MAE: {tree_mae}, Decision Tree MSE: {tree_mse}')\n"
   ]
  },
  {
   "cell_type": "code",
   "execution_count": 86,
   "id": "b88932b6",
   "metadata": {},
   "outputs": [
    {
     "data": {
      "text/plain": [
       "' USED FOR MAKING A CHART!\\nfrom sklearn.tree import export_graphviz\\nimport graphviz\\n\\n# Assuming the tree_model has already been trained\\ndot_data = export_graphviz(tree_model, out_file=None, \\n                           feature_names=pd.get_dummies(X_train[categorical_cols.tolist() + numerical_cols.tolist()]).columns,  \\n                           class_names=[\\'SalePrice\\'],\\n                           filled=True, rounded=True,  \\n                           special_characters=True)\\n\\n# Generate the graph\\ngraph = graphviz.Source(dot_data)\\ntry:\\n    graph.view() \\nfinally:\\n    print(\"graph made!\")'"
      ]
     },
     "execution_count": 86,
     "metadata": {},
     "output_type": "execute_result"
    }
   ],
   "source": [
    "''' USED FOR MAKING A CHART!\n",
    "from sklearn.tree import export_graphviz\n",
    "import graphviz\n",
    "\n",
    "# Assuming the tree_model has already been trained\n",
    "dot_data = export_graphviz(tree_model, out_file=None, \n",
    "                           feature_names=pd.get_dummies(X_train[categorical_cols.tolist() + numerical_cols.tolist()]).columns,  \n",
    "                           class_names=['SalePrice'],\n",
    "                           filled=True, rounded=True,  \n",
    "                           special_characters=True)\n",
    "\n",
    "# Generate the graph\n",
    "graph = graphviz.Source(dot_data)\n",
    "try:\n",
    "    graph.view() \n",
    "finally:\n",
    "    print(\"graph made!\")'''"
   ]
  }
 ],
 "metadata": {
  "kernelspec": {
   "display_name": "Python 3",
   "language": "python",
   "name": "python3"
  },
  "language_info": {
   "codemirror_mode": {
    "name": "ipython",
    "version": 3
   },
   "file_extension": ".py",
   "mimetype": "text/x-python",
   "name": "python",
   "nbconvert_exporter": "python",
   "pygments_lexer": "ipython3",
   "version": "3.12.1"
  }
 },
 "nbformat": 4,
 "nbformat_minor": 5
}
